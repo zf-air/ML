{
 "cells": [
  {
   "cell_type": "code",
   "execution_count": 152,
   "metadata": {},
   "outputs": [],
   "source": [
    "import matplotlib.pyplot as plt\n",
    "%matplotlib inline"
   ]
  },
  {
   "cell_type": "markdown",
   "metadata": {},
   "source": [
    "#### 数据准备"
   ]
  },
  {
   "cell_type": "code",
   "execution_count": 153,
   "metadata": {},
   "outputs": [],
   "source": [
    "# 假设x_data和y_data都有10笔，分别代表宝可梦进化前后的cp值\n",
    "x_data=[338.,333.,328.,207.,226.,25.,179.,60.,208.,606.]\n",
    "y_data=[640.,633.,619.,393.,428.,27.,193.,66.,226.,1591.]\n",
    "# 这里采用最简单的linear model：y_data=b+w*x_data\n",
    "# 我们要用gradient descent把b和w找出来a"
   ]
  },
  {
   "cell_type": "code",
   "execution_count": 154,
   "metadata": {},
   "outputs": [
    {
     "data": {
      "image/png": "[encoded data removed]",
      "text/plain": [
       "<Figure size 432x288 with 1 Axes>"
      ]
     },
     "metadata": {
      "needs_background": "light"
     },
     "output_type": "display_data"
    }
   ],
   "source": [
    "plt.figure()\n",
    "plt.scatter(x_data,y_data)\n",
    "plt.show()"
   ]
  },
  {
   "cell_type": "markdown",
   "metadata": {},
   "source": [
    "#### 计算梯度微分的函数getGrad()"
   ]
  },
  {
   "cell_type": "code",
   "execution_count": 155,
   "metadata": {},
   "outputs": [],
   "source": [
    "# 计算梯度微分的函数getGrad()\n",
    "# w,b为上一次的参数，w_grad,b_grad是根据w,b计算出的导数\n",
    "def getGrad(w,b):\n",
    "    w_grad=0.0\n",
    "    b_grad=0.0  \n",
    "    for i in range(10):\n",
    "        w_grad+=(-2.0)*x_data[i]*(y_data[i]-(b+w*x_data[i]))\n",
    "        b_grad+=(-2.0)*(y_data[i]-(b+w*x_data[i]))\n",
    "    return (w_grad,b_grad)"
   ]
  },
  {
   "cell_type": "markdown",
   "metadata": {},
   "source": [
    "### 一、自己写的版本"
   ]
  },
  {
   "cell_type": "markdown",
   "metadata": {},
   "source": [
    "#### 1.初始化"
   ]
  },
  {
   "cell_type": "code",
   "execution_count": 156,
   "metadata": {},
   "outputs": [],
   "source": [
    "w=-120\n",
    "b=-4\n",
    "lr=0.000001 #learing rate\n",
    "w_grad=0.0\n",
    "b_grad=0.0\n",
    "iteration=100000 #迭代次数\n",
    "(w_grad,b_gard)=getGrad(w,b) #计算导数"
   ]
  },
  {
   "cell_type": "markdown",
   "metadata": {},
   "source": [
    "#### 2. 循环计算w和b"
   ]
  },
  {
   "cell_type": "code",
   "execution_count": 157,
   "metadata": {},
   "outputs": [
    {
     "name": "stdout",
     "output_type": "stream",
     "text": [
      "2.6694549616060477 -188.433194863119\n"
     ]
    }
   ],
   "source": [
    "# store initial values for plotting，我们想要最终把数据描绘在图上，因此存储过程数据\n",
    "w_history = [w]\n",
    "b_history = [b]\n",
    "\n",
    "# for i in range(iteration): # 直接规定循环的次数\n",
    "while((abs(w_grad)>0.00001) or (abs(b_grad)>0.00001)):\n",
    "    w=w-lr*w_grad\n",
    "    b=b-lr*b_grad\n",
    "    (w_grad,b_grad)=getGrad(w,b)\n",
    "    \n",
    "    w_history.append(w)\n",
    "    b_history.append(b)\n",
    "print(w,b)"
   ]
  },
  {
   "cell_type": "markdown",
   "metadata": {},
   "source": [
    "#### 3. 显示w和b的迭代过程"
   ]
  },
  {
   "cell_type": "code",
   "execution_count": 158,
   "metadata": {},
   "outputs": [
    {
     "data": {
      "image/png": "[encoded data removed]",
      "text/plain": [
       "<Figure size 432x288 with 1 Axes>"
      ]
     },
     "metadata": {
      "needs_background": "light"
     },
     "output_type": "display_data"
    }
   ],
   "source": [
    "plt.figure()\n",
    "plt.plot(w_history,b_history,color='red')\n",
    "plt.xlabel('w')\n",
    "plt.ylabel('b')\n",
    "plt.show()"
   ]
  },
  {
   "cell_type": "markdown",
   "metadata": {},
   "source": [
    "#### 4. 画出拟合的直线"
   ]
  },
  {
   "cell_type": "code",
   "execution_count": 159,
   "metadata": {},
   "outputs": [
    {
     "data": {
      "text/plain": [
       "[<matplotlib.lines.Line2D at 0x183cd1065c8>]"
      ]
     },
     "execution_count": 159,
     "metadata": {},
     "output_type": "execute_result"
    },
    {
     "data": {
      "image/png": "[encoded data removed]",
      "text/plain": [
       "<Figure size 432x288 with 1 Axes>"
      ]
     },
     "metadata": {
      "needs_background": "light"
     },
     "output_type": "display_data"
    }
   ],
   "source": [
    "plt.figure()\n",
    "plt.scatter(x_data,y_data)\n",
    "y_pre = []\n",
    "for i in range(10):\n",
    "    y_pre.append(x_data[i]*w+b)\n",
    "plt.plot(x_data,y_pre,color='red')"
   ]
  },
  {
   "cell_type": "markdown",
   "metadata": {},
   "source": [
    "#### 5. 计算误差"
   ]
  },
  {
   "cell_type": "code",
   "execution_count": 168,
   "metadata": {},
   "outputs": [
    {
     "name": "stdout",
     "output_type": "stream",
     "text": [
      "[73.84441736270833, 67.4980970060185, 68.15177664932844, 28.8291759825683, 13.113158627146447, 148.63523696608252, 96.43143001996799, 94.21099446925288, 140.84008808876973, 161.7928115187101]\n",
      "\n",
      "\n",
      "average error is 89.33471866905532\n"
     ]
    }
   ],
   "source": [
    "error=[]\n",
    "sum=0.0\n",
    "average_error=0.0\n",
    "for i in range(10):\n",
    "    y_pre=w*x_data[i]+b\n",
    "    error.append(abs(y_pre-y_data[i]))\n",
    "    sum+=error[i]\n",
    "print(error)\n",
    "print('\\n')\n",
    "average_error=sum/10\n",
    "print(\"average error is \" + str(average_error))"
   ]
  },
  {
   "cell_type": "markdown",
   "metadata": {},
   "source": [
    "### 二、使用李宏毅老师的demo尝试"
   ]
  },
  {
   "cell_type": "markdown",
   "metadata": {},
   "source": [
    "#### 1. 引入需要的库\n"
   ]
  },
  {
   "cell_type": "code",
   "execution_count": 161,
   "metadata": {},
   "outputs": [],
   "source": [
    "import matplotlib\n",
    "import matplotlib.pyplot as plt\n",
    "matplotlib.use('Agg')\n",
    "%matplotlib inline \n",
    "import random as random\n",
    "import numpy as np\n",
    "import csv"
   ]
  },
  {
   "cell_type": "markdown",
   "metadata": {},
   "source": [
    "#### 2. 准备好b、w、loss的图像数据\n"
   ]
  },
  {
   "cell_type": "code",
   "execution_count": 162,
   "metadata": {},
   "outputs": [],
   "source": [
    "# 生成一组b和w的数据图，方便给gradient descent的过程做标记\n",
    "x = np.arange(-200,-100,1) # bias\n",
    "y = np.arange(-5,5,0.1) # weight\n",
    "Z = np.zeros((len(x),len(y))) # color\n",
    "X,Y = np.meshgrid(x,y)\n",
    "for i in range(len(x)):\n",
    "    for j in range(len(y)):\n",
    "        b = x[i]\n",
    "        w = y[j]\n",
    "        \n",
    "        # Z[j][i]存储的是loss\n",
    "        Z[j][i] = 0\n",
    "        for n in range(len(x_data)):\n",
    "            Z[j][i] = Z[j][i] + (y_data[n] - (b + w * x_data[n]))**2\n",
    "        Z[j][i] = Z[j][i]/len(x_data)"
   ]
  },
  {
   "cell_type": "markdown",
   "metadata": {},
   "source": [
    "#### 3. 规定迭代次数和learning rate，进行第一次尝试\n",
    "##### 距离最优解还有一段距离"
   ]
  },
  {
   "cell_type": "code",
   "execution_count": 163,
   "metadata": {},
   "outputs": [
    {
     "data": {
      "image/png": "[encoded data removed]",
      "text/plain": [
       "<Figure size 432x288 with 1 Axes>"
      ]
     },
     "metadata": {
      "needs_background": "light"
     },
     "output_type": "display_data"
    }
   ],
   "source": [
    "# y_data = b + w * x_data\n",
    "b = -120 # initial b\n",
    "w = -4 # initial w\n",
    "lr = 0.0000001 # learning rate\n",
    "iteration = 100000 # 这里直接规定了迭代次数，而不是一直运行到b_grad和w_grad都为0(事实证明这样做不太可行)\n",
    "\n",
    "# store initial values for plotting，我们想要最终把数据描绘在图上，因此存储过程数据\n",
    "b_history = [b]\n",
    "w_history = [w]\n",
    "\n",
    "# iterations\n",
    "for i in range(iteration):\n",
    "    \n",
    "    # get new b_grad and w_grad\n",
    "    # b_grad,w_grad=getGrad(b,w)\n",
    "    w_grad,b_grad=getGrad(w,b)\n",
    "    \n",
    "    # update b and w\n",
    "    b -= lr * b_grad\n",
    "    w -= lr * w_grad\n",
    "    \n",
    "    #store parameters for plotting\n",
    "    b_history.append(b)\n",
    "    w_history.append(w)\n",
    "\n",
    "# plot the figure\n",
    "plt.contourf(x,y,Z,50,alpha=0.5,cmap=plt.get_cmap('jet'))\n",
    "plt.plot([-188.4],[2.67],'x',ms=12,markeredgewidth=3,color='orange')\n",
    "plt.plot(b_history,w_history,'o-',ms=3,lw=1.5,color='black')\n",
    "plt.xlim(-200,-100)\n",
    "plt.ylim(-5,5)\n",
    "plt.xlabel(r'$b$',fontsize=16)\n",
    "plt.ylabel(r'$w$',fontsize=16)\n",
    "plt.show()"
   ]
  },
  {
   "cell_type": "markdown",
   "metadata": {},
   "source": [
    "#### 4. 把learning rate增大10倍尝试\n",
    "##### 发现经过100000次的update以后，我们的参数相比之前与最终目标更接近了，但是这里有一个剧烈的震荡现象发生"
   ]
  },
  {
   "cell_type": "code",
   "execution_count": 164,
   "metadata": {},
   "outputs": [
    {
     "data": {
      "image/png": "[encoded data removed]",
      "text/plain": [
       "<Figure size 432x288 with 1 Axes>"
      ]
     },
     "metadata": {
      "needs_background": "light"
     },
     "output_type": "display_data"
    }
   ],
   "source": [
    "# 上图中，gradient descent最终停止的地方里最优解还差很远，\n",
    "# 由于我们是规定了iteration次数的，因此原因应该是learning rate不够大，这里把它放大10倍\n",
    "\n",
    "# y_data = b + w * x_data\n",
    "b = -120 # initial b\n",
    "w = -4 # initial w\n",
    "lr = 0.000001 # learning rate 放大10倍\n",
    "iteration = 100000 # 这里直接规定了迭代次数，而不是一直运行到b_grad和w_grad都为0(事实证明这样做不太可行)\n",
    "\n",
    "# store initial values for plotting，我们想要最终把数据描绘在图上，因此存储过程数据\n",
    "b_history = [b]\n",
    "w_history = [w]\n",
    "\n",
    "# iterations\n",
    "for i in range(iteration):\n",
    "    \n",
    "    # get new b_grad and w_grad\n",
    "    # b_grad,w_grad=getGrad(b,w)\n",
    "    w_grad,b_grad=getGrad(w,b)\n",
    "    \n",
    "    # update b and w\n",
    "    b -= lr * b_grad\n",
    "    w -= lr * w_grad\n",
    "    \n",
    "    #store parameters for plotting\n",
    "    b_history.append(b)\n",
    "    w_history.append(w)\n",
    "\n",
    "# plot the figure\n",
    "plt.contourf(x,y,Z,50,alpha=0.5,cmap=plt.get_cmap('jet'))\n",
    "plt.plot([-188.4],[2.67],'x',ms=12,markeredgewidth=3,color='orange')\n",
    "plt.plot(b_history,w_history,'o-',ms=3,lw=1.5,color='black')\n",
    "plt.xlim(-200,-100)\n",
    "plt.ylim(-5,5)\n",
    "plt.xlabel(r'$b$',fontsize=16)\n",
    "plt.ylabel(r'$w$',fontsize=16)\n",
    "plt.show()"
   ]
  },
  {
   "cell_type": "markdown",
   "metadata": {},
   "source": [
    "#### 5. 把learning rate再增大10倍\n",
    "##### 发现此时learning rate太大了，参数一update，就远远超出图中标注的范围了\n",
    "\n",
    "##### 所以我们会发现一个很严重的问题，如果learning rate变小一点，他距离最佳解还是会具有一段距离；但是如果learning rate放大，它就会直接超出范围了"
   ]
  },
  {
   "cell_type": "markdown",
   "metadata": {},
   "source": [
    "##### 这个问题明明很简单，可是只有两个参数b和w，gradient descent搞半天都搞不定，那以后做neural network有数百万个参数的时候，要怎么办呢\n",
    "##### 这个就是**一室不治何以国家为**的概念"
   ]
  },
  {
   "cell_type": "markdown",
   "metadata": {},
   "source": [
    "#### 6. 于是这里就要放大招了！！！——Adagrad\n",
    "我们给b和w客制化的learning rate，让它们两个的learning rate不一样"
   ]
  },
  {
   "cell_type": "code",
   "execution_count": 165,
   "metadata": {},
   "outputs": [
    {
     "name": "stdout",
     "output_type": "stream",
     "text": [
      "the function will be y_data=-188.3668387495323+2.6692640713379903*x_data\n",
      "error 0 is: 73.84441736270833 \n",
      "error 1 is: 67.4980970060185 \n",
      "error 2 is: 68.15177664932844 \n",
      "error 3 is: 28.8291759825683 \n",
      "error 4 is: 13.113158627146447 \n",
      "error 5 is: 148.63523696608252 \n",
      "error 6 is: 96.43143001996799 \n",
      "error 7 is: 94.21099446925288 \n",
      "error 8 is: 140.84008808876973 \n",
      "error 9 is: 161.7928115187101 \n",
      "the average error is 89.33471866905532\n"
     ]
    },
    {
     "data": {
      "image/png": "[encoded data removed]",
      "text/plain": [
       "<Figure size 432x288 with 1 Axes>"
      ]
     },
     "metadata": {
      "needs_background": "light"
     },
     "output_type": "display_data"
    }
   ],
   "source": [
    "# 这里给b和w不同的learning rate \n",
    "\n",
    "# y_data = b + w * x_data\n",
    "b = -120 # initial b\n",
    "w = -4 # initial w\n",
    "lr = 1 # learning rate 放大10倍\n",
    "iteration = 100000 # 这里直接规定了迭代次数，而不是一直运行到b_grad和w_grad都为0(事实证明这样做不太可行)\n",
    "\n",
    "# store initial values for plotting，我们想要最终把数据描绘在图上，因此存储过程数据\n",
    "b_history = [b]\n",
    "w_history = [w]\n",
    "\n",
    "lr_b = 0\n",
    "lr_w = 0\n",
    "\n",
    "# iterations\n",
    "for i in range(iteration):\n",
    "    \n",
    "    # get new b_grad and w_grad\n",
    "    # b_grad,w_grad=getGrad(b,w)\n",
    "    w_grad,b_grad=getGrad(w,b)\n",
    "    \n",
    "    # get the different learning rate for b and w\n",
    "    lr_b = lr_b + b_grad ** 2\n",
    "    lr_w = lr_w + w_grad ** 2\n",
    "    \n",
    "    # 这一招叫做adagrad，之后会详加解释\n",
    "    # update b and w with new learning rate\n",
    "    b -= lr / np.sqrt(lr_b) * b_grad\n",
    "    w -= lr / np.sqrt(lr_w) * w_grad\n",
    "    \n",
    "    #store parameters for plotting\n",
    "    b_history.append(b)\n",
    "    w_history.append(w)\n",
    "    \n",
    "    # output the b w b_grad w_grad\n",
    "    # print(\"b: \"+str(b)+\"\\t\\t\\t w: \"+str(w)+\"\\n\"+\"b_grad: \"+str(b_grad)+\"\\t\\t w_grad: \"+str(w_grad)+\"\\n\")\n",
    "    \n",
    "# output the final function and its error\n",
    "print(\"the function will be y_data=\"+str(b)+\"+\"+str(w)+\"*x_data\")\n",
    "error=0.0\n",
    "for i in range(10):\n",
    "    print(\"error \"+str(i)+\" is: \"+str(np.abs(y_data[i]-(b+w*x_data[i])))+\" \")\n",
    "    error+=np.abs(y_data[i]-(b+w*x_data[i]))\n",
    "average_error=error/10\n",
    "print(\"the average error is \"+str(average_error))\n",
    "\n",
    "# plot the figure\n",
    "plt.contourf(x,y,Z,50,alpha=0.5,cmap=plt.get_cmap('jet'))\n",
    "plt.plot([-188.4],[2.67],'x',ms=12,markeredgewidth=3,color='orange')\n",
    "plt.plot(b_history,w_history,'o-',ms=3,lw=1.5,color='black')\n",
    "plt.xlim(-200,-100)\n",
    "plt.ylim(-5,5)\n",
    "plt.xlabel(r'$b$',fontsize=16)\n",
    "plt.ylabel(r'$w$',fontsize=16)\n",
    "plt.show()"
   ]
  },
  {
   "cell_type": "markdown",
   "metadata": {},
   "source": [
    "#### 有了新的learning rate以后，从初始值到终点，我们在100000次iteration之内就可以顺利地完成了"
   ]
  }
 ],
 "metadata": {
  "interpreter": {
   "hash": "4905652b14e4b7eb92899b78ac499a22c488804455b27940a322fd82aaf71031"
  },
  "kernelspec": {
   "display_name": "Python 3.7.6 ('base')",
   "language": "python",
   "name": "python3"
  },
  "language_info": {
   "codemirror_mode": {
    "name": "ipython",
    "version": 3
   },
   "file_extension": ".py",
   "mimetype": "text/x-python",
   "name": "python",
   "nbconvert_exporter": "python",
   "pygments_lexer": "ipython3",
   "version": "3.7.6"
  },
  "orig_nbformat": 4
 },
 "nbformat": 4,
 "nbformat_minor": 2
}
