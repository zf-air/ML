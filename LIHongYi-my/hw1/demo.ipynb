{
 "cells": [
  {
   "cell_type": "markdown",
   "metadata": {},
   "source": [
    "### 载入train.csv"
   ]
  },
  {
   "cell_type": "code",
   "execution_count": 17,
   "metadata": {},
   "outputs": [
    {
     "output_type": "execute_result",
     "data": {
      "text/plain": "         日期  測站        測項     0     1     2     3     4     5     6  ...  \\\n0  2014/1/1  豐原  AMB_TEMP    14    14    14    13    12    12    12  ...   \n1  2014/1/1  豐原       CH4   1.8   1.8   1.8   1.8   1.8   1.8   1.8  ...   \n2  2014/1/1  豐原        CO  0.51  0.41  0.39  0.37  0.35   0.3  0.37  ...   \n3  2014/1/1  豐原      NMHC   0.2  0.15  0.13  0.12  0.11  0.06   0.1  ...   \n4  2014/1/1  豐原        NO   0.9   0.6   0.5   1.7   1.8   1.5   1.9  ...   \n5  2014/1/1  豐原       NO2    16   9.2   8.2   6.9   6.8   3.8   6.9  ...   \n6  2014/1/1  豐原       NOx    17   9.8   8.7   8.6   8.5   5.3   8.8  ...   \n7  2014/1/1  豐原        O3    16    30    27    23    24    28    24  ...   \n8  2014/1/1  豐原      PM10    56    50    48    35    25    12     4  ...   \n9  2014/1/1  豐原     PM2.5    26    39    36    35    31    28    25  ...   \n\n     14    15    16    17    18    19    20    21    22    23  \n0    22    22    21    19    17    16    15    15    15    15  \n1   1.8   1.8   1.8   1.8   1.8   1.8   1.8   1.8   1.8   1.8  \n2  0.37  0.37  0.47  0.69  0.56  0.45  0.38  0.35  0.36  0.32  \n3   0.1  0.13  0.14  0.23  0.18  0.12   0.1  0.09   0.1  0.08  \n4   2.5   2.2   2.5   2.3   2.1   1.9   1.5   1.6   1.8   1.5  \n5    11    11    22    28    19    12   8.1     7   6.9     6  \n6    14    13    25    30    21    13   9.7   8.6   8.7   7.5  \n7    65    64    51    34    33    34    37    38    38    36  \n8    52    51    66    85    85    63    46    36    42    42  \n9    36    45    42    49    45    44    41    30    24    13  \n\n[10 rows x 27 columns]",
      "text/html": "<div>\n<style scoped>\n    .dataframe tbody tr th:only-of-type {\n        vertical-align: middle;\n    }\n\n    .dataframe tbody tr th {\n        vertical-align: top;\n    }\n\n    .dataframe thead th {\n        text-align: right;\n    }\n</style>\n<table border=\"1\" class=\"dataframe\">\n  <thead>\n    <tr style=\"text-align: right;\">\n      <th></th>\n      <th>日期</th>\n      <th>測站</th>\n      <th>測項</th>\n      <th>0</th>\n      <th>1</th>\n      <th>2</th>\n      <th>3</th>\n      <th>4</th>\n      <th>5</th>\n      <th>6</th>\n      <th>...</th>\n      <th>14</th>\n      <th>15</th>\n      <th>16</th>\n      <th>17</th>\n      <th>18</th>\n      <th>19</th>\n      <th>20</th>\n      <th>21</th>\n      <th>22</th>\n      <th>23</th>\n    </tr>\n  </thead>\n  <tbody>\n    <tr>\n      <th>0</th>\n      <td>2014/1/1</td>\n      <td>豐原</td>\n      <td>AMB_TEMP</td>\n      <td>14</td>\n      <td>14</td>\n      <td>14</td>\n      <td>13</td>\n      <td>12</td>\n      <td>12</td>\n      <td>12</td>\n      <td>...</td>\n      <td>22</td>\n      <td>22</td>\n      <td>21</td>\n      <td>19</td>\n      <td>17</td>\n      <td>16</td>\n      <td>15</td>\n      <td>15</td>\n      <td>15</td>\n      <td>15</td>\n    </tr>\n    <tr>\n      <th>1</th>\n      <td>2014/1/1</td>\n      <td>豐原</td>\n      <td>CH4</td>\n      <td>1.8</td>\n      <td>1.8</td>\n      <td>1.8</td>\n      <td>1.8</td>\n      <td>1.8</td>\n      <td>1.8</td>\n      <td>1.8</td>\n      <td>...</td>\n      <td>1.8</td>\n      <td>1.8</td>\n      <td>1.8</td>\n      <td>1.8</td>\n      <td>1.8</td>\n      <td>1.8</td>\n      <td>1.8</td>\n      <td>1.8</td>\n      <td>1.8</td>\n      <td>1.8</td>\n    </tr>\n    <tr>\n      <th>2</th>\n      <td>2014/1/1</td>\n      <td>豐原</td>\n      <td>CO</td>\n      <td>0.51</td>\n      <td>0.41</td>\n      <td>0.39</td>\n      <td>0.37</td>\n      <td>0.35</td>\n      <td>0.3</td>\n      <td>0.37</td>\n      <td>...</td>\n      <td>0.37</td>\n      <td>0.37</td>\n      <td>0.47</td>\n      <td>0.69</td>\n      <td>0.56</td>\n      <td>0.45</td>\n      <td>0.38</td>\n      <td>0.35</td>\n      <td>0.36</td>\n      <td>0.32</td>\n    </tr>\n    <tr>\n      <th>3</th>\n      <td>2014/1/1</td>\n      <td>豐原</td>\n      <td>NMHC</td>\n      <td>0.2</td>\n      <td>0.15</td>\n      <td>0.13</td>\n      <td>0.12</td>\n      <td>0.11</td>\n      <td>0.06</td>\n      <td>0.1</td>\n      <td>...</td>\n      <td>0.1</td>\n      <td>0.13</td>\n      <td>0.14</td>\n      <td>0.23</td>\n      <td>0.18</td>\n      <td>0.12</td>\n      <td>0.1</td>\n      <td>0.09</td>\n      <td>0.1</td>\n      <td>0.08</td>\n    </tr>\n    <tr>\n      <th>4</th>\n      <td>2014/1/1</td>\n      <td>豐原</td>\n      <td>NO</td>\n      <td>0.9</td>\n      <td>0.6</td>\n      <td>0.5</td>\n      <td>1.7</td>\n      <td>1.8</td>\n      <td>1.5</td>\n      <td>1.9</td>\n      <td>...</td>\n      <td>2.5</td>\n      <td>2.2</td>\n      <td>2.5</td>\n      <td>2.3</td>\n      <td>2.1</td>\n      <td>1.9</td>\n      <td>1.5</td>\n      <td>1.6</td>\n      <td>1.8</td>\n      <td>1.5</td>\n    </tr>\n    <tr>\n      <th>5</th>\n      <td>2014/1/1</td>\n      <td>豐原</td>\n      <td>NO2</td>\n      <td>16</td>\n      <td>9.2</td>\n      <td>8.2</td>\n      <td>6.9</td>\n      <td>6.8</td>\n      <td>3.8</td>\n      <td>6.9</td>\n      <td>...</td>\n      <td>11</td>\n      <td>11</td>\n      <td>22</td>\n      <td>28</td>\n      <td>19</td>\n      <td>12</td>\n      <td>8.1</td>\n      <td>7</td>\n      <td>6.9</td>\n      <td>6</td>\n    </tr>\n    <tr>\n      <th>6</th>\n      <td>2014/1/1</td>\n      <td>豐原</td>\n      <td>NOx</td>\n      <td>17</td>\n      <td>9.8</td>\n      <td>8.7</td>\n      <td>8.6</td>\n      <td>8.5</td>\n      <td>5.3</td>\n      <td>8.8</td>\n      <td>...</td>\n      <td>14</td>\n      <td>13</td>\n      <td>25</td>\n      <td>30</td>\n      <td>21</td>\n      <td>13</td>\n      <td>9.7</td>\n      <td>8.6</td>\n      <td>8.7</td>\n      <td>7.5</td>\n    </tr>\n    <tr>\n      <th>7</th>\n      <td>2014/1/1</td>\n      <td>豐原</td>\n      <td>O3</td>\n      <td>16</td>\n      <td>30</td>\n      <td>27</td>\n      <td>23</td>\n      <td>24</td>\n      <td>28</td>\n      <td>24</td>\n      <td>...</td>\n      <td>65</td>\n      <td>64</td>\n      <td>51</td>\n      <td>34</td>\n      <td>33</td>\n      <td>34</td>\n      <td>37</td>\n      <td>38</td>\n      <td>38</td>\n      <td>36</td>\n    </tr>\n    <tr>\n      <th>8</th>\n      <td>2014/1/1</td>\n      <td>豐原</td>\n      <td>PM10</td>\n      <td>56</td>\n      <td>50</td>\n      <td>48</td>\n      <td>35</td>\n      <td>25</td>\n      <td>12</td>\n      <td>4</td>\n      <td>...</td>\n      <td>52</td>\n      <td>51</td>\n      <td>66</td>\n      <td>85</td>\n      <td>85</td>\n      <td>63</td>\n      <td>46</td>\n      <td>36</td>\n      <td>42</td>\n      <td>42</td>\n    </tr>\n    <tr>\n      <th>9</th>\n      <td>2014/1/1</td>\n      <td>豐原</td>\n      <td>PM2.5</td>\n      <td>26</td>\n      <td>39</td>\n      <td>36</td>\n      <td>35</td>\n      <td>31</td>\n      <td>28</td>\n      <td>25</td>\n      <td>...</td>\n      <td>36</td>\n      <td>45</td>\n      <td>42</td>\n      <td>49</td>\n      <td>45</td>\n      <td>44</td>\n      <td>41</td>\n      <td>30</td>\n      <td>24</td>\n      <td>13</td>\n    </tr>\n  </tbody>\n</table>\n<p>10 rows × 27 columns</p>\n</div>"
     },
     "metadata": {},
     "execution_count": 17
    }
   ],
   "source": [
    "import sys\n",
    "import pandas as pd\n",
    "import numpy as np\n",
    "# 读入train.csv，繁体字以big5编码\n",
    "data = pd.read_csv('data/train.csv', encoding = 'big5')\n",
    "# 显示前10行\n",
    "data.head(10)"
   ]
  },
  {
   "cell_type": "code",
   "execution_count": 18,
   "metadata": {},
   "outputs": [
    {
     "output_type": "execute_result",
     "data": {
      "text/plain": "(4320, 27)"
     },
     "metadata": {},
     "execution_count": 18
    }
   ],
   "source": [
    "data.shape"
   ]
  },
  {
   "cell_type": "markdown",
   "metadata": {},
   "source": [
    "### 预处理"
   ]
  },
  {
   "cell_type": "code",
   "execution_count": 19,
   "metadata": {},
   "outputs": [
    {
     "output_type": "execute_result",
     "data": {
      "text/plain": "array([['14', '14', '14', ..., '15', '15', '15'],\n       ['1.8', '1.8', '1.8', ..., '1.8', '1.8', '1.8'],\n       ['0.51', '0.41', '0.39', ..., '0.35', '0.36', '0.32'],\n       ...,\n       ['36', '55', '72', ..., '118', '100', '105'],\n       ['1.9', '2.4', '1.9', ..., '1.5', '2', '2'],\n       ['0.7', '0.8', '1.8', ..., '1.6', '1.8', '2']], dtype=object)"
     },
     "metadata": {},
     "execution_count": 19
    }
   ],
   "source": [
    "# 丢弃前两列，需要的是从第三列开始的数值\n",
    "data = data.iloc[:, 3:]\n",
    "# 把降雨的NR字符变成数值0\n",
    "data[data == 'NR'] = 0\n",
    "# 把dataframe转换成numpy的数组\n",
    "raw_data = data.to_numpy()\n",
    "raw_data\n"
   ]
  },
  {
   "cell_type": "markdown",
   "metadata": {},
   "source": [
    "### 提取特征"
   ]
  },
  {
   "cell_type": "code",
   "execution_count": null,
   "metadata": {},
   "outputs": [],
   "source": []
  }
 ],
 "metadata": {
  "language_info": {
   "codemirror_mode": {
    "name": "ipython",
    "version": 3
   },
   "file_extension": ".py",
   "mimetype": "text/x-python",
   "name": "python",
   "nbconvert_exporter": "python",
   "pygments_lexer": "ipython3",
   "version": 3
  },
  "orig_nbformat": 2,
  "kernelspec": {
   "name": "python_defaultSpec_1594717123157",
   "display_name": "Python 3.7.6 64-bit ('base': conda)"
  }
 },
 "nbformat": 4,
 "nbformat_minor": 2
}